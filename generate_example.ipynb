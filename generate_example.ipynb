{
 "cells": [
  {
   "cell_type": "code",
   "execution_count": null,
   "metadata": {},
   "outputs": [],
   "source": [
    "import lora\n",
    "\n",
    "model_path = \"../huggingface_model/polyglot-ko-1.3b/\"\n",
    "checkpoint_mapper_path = \"downstream_checkpoint_mapper.json\"\n",
    "multitask_model = lora.MultiTaskModel(\n",
    "    model_path, checkpoint_mapper_path, device=\"cuda\")\n"
   ]
  },
  {
   "cell_type": "code",
   "execution_count": null,
   "metadata": {},
   "outputs": [],
   "source": [
    "request = \"밥은 어디에서 먹을 수 있어?\""
   ]
  },
  {
   "cell_type": "code",
   "execution_count": null,
   "metadata": {},
   "outputs": [],
   "source": [
    "%%timeit -r 1 -n 1\n",
    "\n",
    "# First load will take longer due to io bound.\n",
    "response = multitask_model.generate_response(\n",
    "    downstream=\"example\", instruction=request)\n",
    "print(response)"
   ]
  },
  {
   "cell_type": "code",
   "execution_count": null,
   "metadata": {},
   "outputs": [],
   "source": [
    "%%timeit -r 1 -n 1\n",
    "# Second load is cached.\n",
    "response = multitask_model.generate_response(\n",
    "    downstream=\"example\", instruction=request)\n",
    "print(response)"
   ]
  }
 ],
 "metadata": {
  "kernelspec": {
   "display_name": "base",
   "language": "python",
   "name": "python3"
  },
  "language_info": {
   "name": "python",
   "version": "3.9.13"
  },
  "orig_nbformat": 4,
  "vscode": {
   "interpreter": {
    "hash": "ae7be03cc534ef0ec70804131ad8ff096a44f0abf9688fd1aae40bc5a2fd508b"
   }
  }
 },
 "nbformat": 4,
 "nbformat_minor": 2
}
